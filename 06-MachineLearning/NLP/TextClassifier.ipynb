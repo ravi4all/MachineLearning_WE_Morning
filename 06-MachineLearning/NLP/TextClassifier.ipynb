{
 "cells": [
  {
   "cell_type": "code",
   "execution_count": 1,
   "metadata": {
    "collapsed": true
   },
   "outputs": [],
   "source": [
    "import nltk\n",
    "from sklearn.datasets import fetch_20newsgroups"
   ]
  },
  {
   "cell_type": "code",
   "execution_count": 5,
   "metadata": {
    "collapsed": true
   },
   "outputs": [],
   "source": [
    "category = {\n",
    "     'rec.motorcycles' : 'Motorcycle',\n",
    "     'rec.sport.baseball' : 'Baseball',\n",
    "     'rec.sport.hockey' : 'Hockey',\n",
    "     'sci.crypt' : 'Cryptography',\n",
    "     'sci.electronics' : 'Electronics',\n",
    "     'sci.med' : 'Medical',\n",
    "     'sci.space' : 'Space',\n",
    "     'soc.religion.christian' : 'Religion',\n",
    "     'talk.politics.guns' : 'Politics'\n",
    "}\n",
    "\n",
    "dataset = fetch_20newsgroups(subset='train', categories=category.keys())"
   ]
  },
  {
   "cell_type": "code",
   "execution_count": 9,
   "metadata": {},
   "outputs": [
    {
     "name": "stdout",
     "output_type": "stream",
     "text": [
      "Dimension of dataset : (5313, 63165)\n"
     ]
    }
   ],
   "source": [
    "from sklearn.feature_extraction.text import CountVectorizer\n",
    "\n",
    "vect = CountVectorizer()\n",
    "\n",
    "X_train_count = vect.fit_transform(dataset.data)\n",
    "\n",
    "print(\"Dimension of dataset :\",X_train_count.shape)"
   ]
  },
  {
   "cell_type": "code",
   "execution_count": 15,
   "metadata": {},
   "outputs": [
    {
     "data": {
      "text/plain": [
       "MultinomialNB(alpha=1.0, class_prior=None, fit_prior=True)"
      ]
     },
     "execution_count": 15,
     "metadata": {},
     "output_type": "execute_result"
    }
   ],
   "source": [
    "from sklearn.naive_bayes import MultinomialNB\n",
    "from sklearn.feature_extraction.text import TfidfTransformer\n",
    "\n",
    "input_data = [\n",
    "    \"Team India wins the asia cup with a score of 5-2\",\n",
    "    \"I will travel on my bullet\",\n",
    "    \"India is preparing for another mars mission\",\n",
    "    \"Apple gadgets are more better than other brands\",\n",
    "    \"New anti-biotic was discovered in Stanford University\"\n",
    "]\n",
    "\n",
    "tfidf = TfidfTransformer()\n",
    "X_train_tfidf = tfidf.fit_transform(X_train_count)\n",
    "\n",
    "nb = MultinomialNB()\n",
    "nb.fit(X_train_tfidf, dataset.target)"
   ]
  },
  {
   "cell_type": "code",
   "execution_count": 16,
   "metadata": {},
   "outputs": [],
   "source": [
    "x_input_count = vect.transform(input_data)\n",
    "x_input_tfidf = tfidf.fit_transform(x_input_count)"
   ]
  },
  {
   "cell_type": "code",
   "execution_count": 17,
   "metadata": {
    "collapsed": true
   },
   "outputs": [],
   "source": [
    "predicted_cat = nb.predict(x_input_tfidf)"
   ]
  },
  {
   "cell_type": "code",
   "execution_count": 21,
   "metadata": {},
   "outputs": [
    {
     "name": "stdout",
     "output_type": "stream",
     "text": [
      "Sentence : Team India wins the asia cup with a score of 5-2 \n",
      "Predicted Category : Hockey\n",
      "Sentence : I will travel on my bullet \n",
      "Predicted Category : Religion\n",
      "Sentence : India is preparing for another mars mission \n",
      "Predicted Category : Space\n",
      "Sentence : Apple gadgets are more better than other brands \n",
      "Predicted Category : Cryptography\n",
      "Sentence : New anti-biotic was discovered in Stanford University \n",
      "Predicted Category : Politics\n"
     ]
    }
   ],
   "source": [
    "for sentence, cat in zip(input_data, predicted_cat):\n",
    "    print(\"Sentence :\",sentence,\"\\nPredicted Category :\", category[dataset.target_names[cat]])"
   ]
  },
  {
   "cell_type": "code",
   "execution_count": 29,
   "metadata": {},
   "outputs": [
    {
     "name": "stdout",
     "output_type": "stream",
     "text": [
      "Sentence : Team India wins the asia cup with a score of 5-2 \n",
      "Predicted Category : Hockey\n",
      "Sentence : I will ride on my bullet \n",
      "Predicted Category : Motorcycle\n",
      "Sentence : India is preparing for another mars mission \n",
      "Predicted Category : Space\n",
      "Sentence : Apple is trying to build better AI \n",
      "Predicted Category : Electronics\n",
      "Sentence : Doctor allowed cures for cancer patients \n",
      "Predicted Category : Medical\n"
     ]
    }
   ],
   "source": [
    "input_data = [\n",
    "    \"Team India wins the asia cup with a score of 5-2\",\n",
    "    \"I will ride on my bullet\",\n",
    "    \"India is preparing for another mars mission\",\n",
    "    \"Apple is trying to build better AI\",\n",
    "    \"Doctor allowed cures for cancer patients\"\n",
    "]\n",
    "\n",
    "tfidf = TfidfTransformer()\n",
    "X_train_tfidf = tfidf.fit_transform(X_train_count)\n",
    "\n",
    "nb = MultinomialNB()\n",
    "nb.fit(X_train_tfidf, dataset.target)\n",
    "\n",
    "x_input_count = vect.transform(input_data)\n",
    "x_input_tfidf = tfidf.fit_transform(x_input_count)\n",
    "\n",
    "predicted_cat = nb.predict(x_input_tfidf)\n",
    "\n",
    "for sentence, cat in zip(input_data, predicted_cat):\n",
    "    print(\"Sentence :\",sentence,\"\\nPredicted Category :\", category[dataset.target_names[cat]])"
   ]
  },
  {
   "cell_type": "code",
   "execution_count": 32,
   "metadata": {},
   "outputs": [
    {
     "name": "stdout",
     "output_type": "stream",
     "text": [
      "0.723277774982\n"
     ]
    }
   ],
   "source": [
    "from sklearn import metrics\n",
    "\n",
    "newsgroups_test = fetch_20newsgroups(subset='test',  categories=category.keys())\n",
    "\n",
    "vectors_test = vect.transform(newsgroups_test.data)\n",
    "\n",
    "pred = nb.predict(vectors_test)\n",
    "\n",
    "print(metrics.f1_score(newsgroups_test.target, pred, average='macro'))"
   ]
  },
  {
   "cell_type": "code",
   "execution_count": 33,
   "metadata": {
    "collapsed": true
   },
   "outputs": [],
   "source": [
    "import pandas as pd"
   ]
  },
  {
   "cell_type": "code",
   "execution_count": null,
   "metadata": {
    "collapsed": true
   },
   "outputs": [],
   "source": []
  }
 ],
 "metadata": {
  "kernelspec": {
   "display_name": "Python 3",
   "language": "python",
   "name": "python3"
  },
  "language_info": {
   "codemirror_mode": {
    "name": "ipython",
    "version": 3
   },
   "file_extension": ".py",
   "mimetype": "text/x-python",
   "name": "python",
   "nbconvert_exporter": "python",
   "pygments_lexer": "ipython3",
   "version": "3.5.4"
  }
 },
 "nbformat": 4,
 "nbformat_minor": 2
}
