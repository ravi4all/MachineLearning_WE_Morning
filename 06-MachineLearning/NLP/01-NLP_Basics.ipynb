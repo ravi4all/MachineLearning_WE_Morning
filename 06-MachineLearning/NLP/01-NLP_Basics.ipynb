{
 "cells": [
  {
   "cell_type": "code",
   "execution_count": 1,
   "metadata": {
    "collapsed": true
   },
   "outputs": [],
   "source": [
    "from nltk import word_tokenize"
   ]
  },
  {
   "cell_type": "code",
   "execution_count": 2,
   "metadata": {},
   "outputs": [
    {
     "name": "stdout",
     "output_type": "stream",
     "text": [
      "['Hello', 'world', 'this', 'is', 'python', 'programming', '.', 'Python', 'is', 'great', 'for', 'NLP', '.', 'NLP', 'means', 'language', 'processing']\n"
     ]
    }
   ],
   "source": [
    "str = \"Hello world this is python programming. Python is great for NLP. NLP means language processing\"\n",
    "\n",
    "print(word_tokenize(str))"
   ]
  },
  {
   "cell_type": "code",
   "execution_count": 4,
   "metadata": {},
   "outputs": [],
   "source": [
    "from nltk import sent_tokenize"
   ]
  },
  {
   "cell_type": "code",
   "execution_count": 5,
   "metadata": {},
   "outputs": [
    {
     "name": "stdout",
     "output_type": "stream",
     "text": [
      "['Hello world this is python programming.', 'Python is great for NLP.', 'NLP means language processing']\n"
     ]
    }
   ],
   "source": [
    "print(sent_tokenize(str))"
   ]
  },
  {
   "cell_type": "code",
   "execution_count": 6,
   "metadata": {},
   "outputs": [
    {
     "name": "stdout",
     "output_type": "stream",
     "text": [
      "['Hello world this is python programming.', 'Hello Mr. Ramesh Python is great for NLP.', 'NLP means language processing']\n"
     ]
    }
   ],
   "source": [
    "str = \"Hello world this is python programming. Hello Mr. Ramesh Python is great for NLP. NLP means language processing\"\n",
    "\n",
    "print(sent_tokenize(str))"
   ]
  },
  {
   "cell_type": "code",
   "execution_count": 9,
   "metadata": {},
   "outputs": [
    {
     "name": "stdout",
     "output_type": "stream",
     "text": [
      "['Hello world this is python programming.', 'Hello world by  Mr. Ramesh.', 'Python is great for NLP.']\n"
     ]
    }
   ],
   "source": [
    "str = \"Hello world this is python programming. Hello world by  Mr. Ramesh. Python is great for NLP.\"\n",
    "\n",
    "print(sent_tokenize(str))"
   ]
  },
  {
   "cell_type": "code",
   "execution_count": 10,
   "metadata": {
    "collapsed": true
   },
   "outputs": [],
   "source": [
    "from nltk.corpus import stopwords"
   ]
  },
  {
   "cell_type": "code",
   "execution_count": 15,
   "metadata": {},
   "outputs": [
    {
     "name": "stdout",
     "output_type": "stream",
     "text": [
      "['i', 'me', 'my', 'myself', 'we', 'our', 'ours', 'ourselves', 'you', 'your', 'yours', 'yourself', 'yourselves', 'he', 'him', 'his', 'himself', 'she', 'her', 'hers', 'herself', 'it', 'its', 'itself', 'they', 'them', 'their', 'theirs', 'themselves', 'what', 'which', 'who', 'whom', 'this', 'that', 'these', 'those', 'am', 'is', 'are', 'was', 'were', 'be', 'been', 'being', 'have', 'has', 'had', 'having', 'do', 'does', 'did', 'doing', 'a', 'an', 'the', 'and', 'but', 'if', 'or', 'because', 'as', 'until', 'while', 'of', 'at', 'by', 'for', 'with', 'about', 'against', 'between', 'into', 'through', 'during', 'before', 'after', 'above', 'below', 'to', 'from', 'up', 'down', 'in', 'out', 'on', 'off', 'over', 'under', 'again', 'further', 'then', 'once', 'here', 'there', 'when', 'where', 'why', 'how', 'all', 'any', 'both', 'each', 'few', 'more', 'most', 'other', 'some', 'such', 'no', 'nor', 'not', 'only', 'own', 'same', 'so', 'than', 'too', 'very', 's', 't', 'can', 'will', 'just', 'don', 'should', 'now', 'd', 'll', 'm', 'o', 're', 've', 'y', 'ain', 'aren', 'couldn', 'didn', 'doesn', 'hadn', 'hasn', 'haven', 'isn', 'ma', 'mightn', 'mustn', 'needn', 'shan', 'shouldn', 'wasn', 'weren', 'won', 'wouldn']\n"
     ]
    }
   ],
   "source": [
    "word = word_tokenize(str)\n",
    "\n",
    "print(stopwords.words(\"english\"))"
   ]
  },
  {
   "cell_type": "code",
   "execution_count": 16,
   "metadata": {},
   "outputs": [
    {
     "name": "stdout",
     "output_type": "stream",
     "text": [
      "['Hello', 'world', 'python', 'programming', '.', 'Hello', 'world', 'Mr.', 'Ramesh', '.', 'Python', 'great', 'NLP', '.']\n"
     ]
    }
   ],
   "source": [
    "filteredList = []\n",
    "\n",
    "stopwordList = stopwords.words(\"english\")\n",
    "\n",
    "for i in word:\n",
    "    if i not in stopwordList:\n",
    "        filteredList.append(i)\n",
    "\n",
    "print(filteredList)"
   ]
  },
  {
   "cell_type": "code",
   "execution_count": 17,
   "metadata": {
    "collapsed": true
   },
   "outputs": [],
   "source": [
    "from nltk.stem import PorterStemmer, LancasterStemmer, SnowballStemmer"
   ]
  },
  {
   "cell_type": "code",
   "execution_count": 19,
   "metadata": {},
   "outputs": [
    {
     "name": "stdout",
     "output_type": "stream",
     "text": [
      "sachin\n",
      "play\n",
      "for\n",
      "india\n",
      ".\n",
      "dhoni\n",
      "is\n",
      "play\n",
      "for\n",
      "india\n",
      ".\n",
      "kohli\n",
      "play\n",
      "veri\n",
      "well\n",
      ".\n"
     ]
    }
   ],
   "source": [
    "str_1 = \"Sachin played for India. Dhoni is playing for India. Kohli plays very well.\"\n",
    "ps = PorterStemmer()\n",
    "\n",
    "w = word_tokenize(str_1)\n",
    "\n",
    "for i in w:\n",
    "    print(ps.stem(i))"
   ]
  },
  {
   "cell_type": "code",
   "execution_count": 24,
   "metadata": {},
   "outputs": [
    {
     "name": "stdout",
     "output_type": "stream",
     "text": [
      "play\n",
      "shope\n",
      "shop\n",
      "greatest\n",
      "sung\n",
      "came\n",
      "becam\n"
     ]
    }
   ],
   "source": [
    "w = [\"played\", \"shoping\", \"shops\", \"greatest\", \"sung\", \"came\", \"became\"]\n",
    "\n",
    "ls = LancasterStemmer()\n",
    "\n",
    "ss = SnowballStemmer(\"english\")\n",
    "\n",
    "for i in w:\n",
    "    print(ss.stem(i))"
   ]
  },
  {
   "cell_type": "code",
   "execution_count": 25,
   "metadata": {
    "collapsed": true
   },
   "outputs": [],
   "source": [
    "from nltk.stem import WordNetLemmatizer"
   ]
  },
  {
   "cell_type": "code",
   "execution_count": 28,
   "metadata": {},
   "outputs": [
    {
     "name": "stdout",
     "output_type": "stream",
     "text": [
      "['played', 'play']\n",
      "['shoping', 'shop']\n",
      "['shop', 'shop']\n",
      "['greatest', 'greatest']\n",
      "['sung', 'sing']\n",
      "['came', 'come']\n",
      "['became', 'become']\n",
      "['better', 'better']\n",
      "['best', 'best']\n"
     ]
    }
   ],
   "source": [
    "w = [\"played\", \"shoping\", \"shops\", \"greatest\", \"sung\", \"came\", \"became\", \"better\", \"best\"]\n",
    "\n",
    "wordNet = WordNetLemmatizer()\n",
    "\n",
    "for i in w:\n",
    "    lemmWord = [wordNet.lemmatize(i, pos='n'), wordNet.lemmatize(i, pos='v')]\n",
    "    print(lemmWord)"
   ]
  },
  {
   "cell_type": "code",
   "execution_count": null,
   "metadata": {
    "collapsed": true
   },
   "outputs": [],
   "source": []
  }
 ],
 "metadata": {
  "kernelspec": {
   "display_name": "Python 3",
   "language": "python",
   "name": "python3"
  },
  "language_info": {
   "codemirror_mode": {
    "name": "ipython",
    "version": 3
   },
   "file_extension": ".py",
   "mimetype": "text/x-python",
   "name": "python",
   "nbconvert_exporter": "python",
   "pygments_lexer": "ipython3",
   "version": "3.5.4"
  }
 },
 "nbformat": 4,
 "nbformat_minor": 2
}
