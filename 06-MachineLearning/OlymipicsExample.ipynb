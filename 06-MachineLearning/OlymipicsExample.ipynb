{
 "cells": [
  {
   "cell_type": "code",
   "execution_count": 1,
   "metadata": {
    "collapsed": true
   },
   "outputs": [],
   "source": [
    "import numpy as np"
   ]
  },
  {
   "cell_type": "code",
   "execution_count": 2,
   "metadata": {
    "collapsed": true
   },
   "outputs": [],
   "source": [
    "country = np.array(['GBR','CHN','RUS','US','KOR','JPN','GER'])\n",
    "\n",
    "gold = np.array([29,38,24,46,13,7,11])\n",
    "silver = np.array([17,28,25,28,8,14,11])\n",
    "bronze = np.array([19,22,32,29,7,17,14])"
   ]
  },
  {
   "cell_type": "code",
   "execution_count": 3,
   "metadata": {
    "collapsed": false
   },
   "outputs": [
    {
     "name": "stdout",
     "output_type": "stream",
     "text": [
      "3\n"
     ]
    }
   ],
   "source": [
    "country_with_max_gold = np.argmax(gold)\n",
    "print(country_with_max_gold)"
   ]
  },
  {
   "cell_type": "code",
   "execution_count": 4,
   "metadata": {
    "collapsed": false
   },
   "outputs": [
    {
     "name": "stdout",
     "output_type": "stream",
     "text": [
      "Country with max gold is:  US\n"
     ]
    }
   ],
   "source": [
    "print(\"Country with max gold is: \",country[country_with_max_gold])"
   ]
  },
  {
   "cell_type": "code",
   "execution_count": 5,
   "metadata": {
    "collapsed": true
   },
   "outputs": [],
   "source": [
    "countries_more_than_20_gold_medals = country[np.where(gold>20)]"
   ]
  },
  {
   "cell_type": "code",
   "execution_count": 8,
   "metadata": {
    "collapsed": false
   },
   "outputs": [
    {
     "name": "stdout",
     "output_type": "stream",
     "text": [
      "Countries who won more than 20 gold medals : \n",
      "GBR\n",
      "CHN\n",
      "RUS\n",
      "US\n"
     ]
    }
   ],
   "source": [
    "print(\"Countries who won more than 20 gold medals : \")\n",
    "for names in countries_more_than_20_gold_medals:\n",
    "    print(names)"
   ]
  },
  {
   "cell_type": "code",
   "execution_count": 9,
   "metadata": {
    "collapsed": false
   },
   "outputs": [
    {
     "name": "stdout",
     "output_type": "stream",
     "text": [
      "('GBR', 29, 17, 19)\n",
      "('CHN', 38, 28, 22)\n",
      "('RUS', 24, 25, 32)\n",
      "('US', 46, 28, 29)\n",
      "('KOR', 13, 8, 7)\n",
      "('JPN', 7, 14, 17)\n",
      "('GER', 11, 11, 14)\n"
     ]
    }
   ],
   "source": [
    "medal_tally = list(zip(country,gold,silver,bronze))\n",
    "for data in medal_tally:\n",
    "    print(data)"
   ]
  },
  {
   "cell_type": "code",
   "execution_count": 10,
   "metadata": {
    "collapsed": false
   },
   "outputs": [
    {
     "name": "stdout",
     "output_type": "stream",
     "text": [
      "Country :  GBR Medals :  65\n",
      "Country :  CHN Medals :  88\n",
      "Country :  RUS Medals :  81\n",
      "Country :  US Medals :  103\n",
      "Country :  KOR Medals :  28\n",
      "Country :  JPN Medals :  38\n",
      "Country :  GER Medals :  36\n"
     ]
    }
   ],
   "source": [
    "for m in range(len(country)):\n",
    "    c = country[m]\n",
    "    g = gold[m]\n",
    "    s = silver[m]\n",
    "    b = bronze[m]\n",
    "    print(\"Country : \",c,\"Medals : \",g+s+b)"
   ]
  },
  {
   "cell_type": "code",
   "execution_count": null,
   "metadata": {
    "collapsed": true
   },
   "outputs": [],
   "source": []
  }
 ],
 "metadata": {
  "kernelspec": {
   "display_name": "Python 3",
   "language": "python",
   "name": "python3"
  },
  "language_info": {
   "codemirror_mode": {
    "name": "ipython",
    "version": 3
   },
   "file_extension": ".py",
   "mimetype": "text/x-python",
   "name": "python",
   "nbconvert_exporter": "python",
   "pygments_lexer": "ipython3",
   "version": "3.6.0"
  }
 },
 "nbformat": 4,
 "nbformat_minor": 2
}
