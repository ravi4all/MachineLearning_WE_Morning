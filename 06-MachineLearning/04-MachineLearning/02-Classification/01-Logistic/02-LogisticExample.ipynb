{
 "cells": [
  {
   "cell_type": "code",
   "execution_count": 17,
   "metadata": {
    "collapsed": true
   },
   "outputs": [],
   "source": [
    "import numpy as np\n",
    "import matplotlib.pyplot as plt\n",
    "import pandas as pd\n",
    "from sklearn.linear_model import LogisticRegression\n",
    "from sklearn.cross_validation import train_test_split\n",
    "from sklearn import metrics"
   ]
  },
  {
   "cell_type": "code",
   "execution_count": 2,
   "metadata": {
    "collapsed": true
   },
   "outputs": [],
   "source": [
    "dataset = pd.read_csv(r'data/anes_dataset.csv')"
   ]
  },
  {
   "cell_type": "code",
   "execution_count": 3,
   "metadata": {},
   "outputs": [
    {
     "data": {
      "text/plain": [
       "(944, 10)"
      ]
     },
     "execution_count": 3,
     "metadata": {},
     "output_type": "execute_result"
    }
   ],
   "source": [
    "dataset.shape"
   ]
  },
  {
   "cell_type": "code",
   "execution_count": 4,
   "metadata": {},
   "outputs": [
    {
     "data": {
      "text/plain": [
       "944"
      ]
     },
     "execution_count": 4,
     "metadata": {},
     "output_type": "execute_result"
    }
   ],
   "source": [
    "len(dataset)"
   ]
  },
  {
   "cell_type": "code",
   "execution_count": 5,
   "metadata": {},
   "outputs": [
    {
     "data": {
      "text/plain": [
       "pandas.core.frame.DataFrame"
      ]
     },
     "execution_count": 5,
     "metadata": {},
     "output_type": "execute_result"
    }
   ],
   "source": [
    "type(dataset)"
   ]
  },
  {
   "cell_type": "code",
   "execution_count": 6,
   "metadata": {},
   "outputs": [
    {
     "data": {
      "text/html": [
       "<div>\n",
       "<style>\n",
       "    .dataframe thead tr:only-child th {\n",
       "        text-align: right;\n",
       "    }\n",
       "\n",
       "    .dataframe thead th {\n",
       "        text-align: left;\n",
       "    }\n",
       "\n",
       "    .dataframe tbody tr th {\n",
       "        vertical-align: top;\n",
       "    }\n",
       "</style>\n",
       "<table border=\"1\" class=\"dataframe\">\n",
       "  <thead>\n",
       "    <tr style=\"text-align: right;\">\n",
       "      <th></th>\n",
       "      <th>popul</th>\n",
       "      <th>TVnews</th>\n",
       "      <th>selfLR</th>\n",
       "      <th>ClinLR</th>\n",
       "      <th>DoleLR</th>\n",
       "      <th>PID</th>\n",
       "      <th>age</th>\n",
       "      <th>educ</th>\n",
       "      <th>income</th>\n",
       "      <th>vote</th>\n",
       "    </tr>\n",
       "  </thead>\n",
       "  <tbody>\n",
       "    <tr>\n",
       "      <th>0</th>\n",
       "      <td>0</td>\n",
       "      <td>7</td>\n",
       "      <td>7</td>\n",
       "      <td>1</td>\n",
       "      <td>6</td>\n",
       "      <td>6</td>\n",
       "      <td>36</td>\n",
       "      <td>3</td>\n",
       "      <td>1</td>\n",
       "      <td>1</td>\n",
       "    </tr>\n",
       "    <tr>\n",
       "      <th>1</th>\n",
       "      <td>190</td>\n",
       "      <td>1</td>\n",
       "      <td>3</td>\n",
       "      <td>3</td>\n",
       "      <td>5</td>\n",
       "      <td>1</td>\n",
       "      <td>20</td>\n",
       "      <td>4</td>\n",
       "      <td>1</td>\n",
       "      <td>0</td>\n",
       "    </tr>\n",
       "    <tr>\n",
       "      <th>2</th>\n",
       "      <td>31</td>\n",
       "      <td>7</td>\n",
       "      <td>2</td>\n",
       "      <td>2</td>\n",
       "      <td>6</td>\n",
       "      <td>1</td>\n",
       "      <td>24</td>\n",
       "      <td>6</td>\n",
       "      <td>1</td>\n",
       "      <td>0</td>\n",
       "    </tr>\n",
       "    <tr>\n",
       "      <th>3</th>\n",
       "      <td>83</td>\n",
       "      <td>4</td>\n",
       "      <td>3</td>\n",
       "      <td>4</td>\n",
       "      <td>5</td>\n",
       "      <td>1</td>\n",
       "      <td>28</td>\n",
       "      <td>6</td>\n",
       "      <td>1</td>\n",
       "      <td>0</td>\n",
       "    </tr>\n",
       "    <tr>\n",
       "      <th>4</th>\n",
       "      <td>640</td>\n",
       "      <td>7</td>\n",
       "      <td>5</td>\n",
       "      <td>6</td>\n",
       "      <td>4</td>\n",
       "      <td>0</td>\n",
       "      <td>68</td>\n",
       "      <td>6</td>\n",
       "      <td>1</td>\n",
       "      <td>0</td>\n",
       "    </tr>\n",
       "  </tbody>\n",
       "</table>\n",
       "</div>"
      ],
      "text/plain": [
       "   popul  TVnews  selfLR  ClinLR  DoleLR  PID  age  educ  income  vote\n",
       "0      0       7       7       1       6    6   36     3       1     1\n",
       "1    190       1       3       3       5    1   20     4       1     0\n",
       "2     31       7       2       2       6    1   24     6       1     0\n",
       "3     83       4       3       4       5    1   28     6       1     0\n",
       "4    640       7       5       6       4    0   68     6       1     0"
      ]
     },
     "execution_count": 6,
     "metadata": {},
     "output_type": "execute_result"
    }
   ],
   "source": [
    "dataset.head()"
   ]
  },
  {
   "cell_type": "code",
   "execution_count": 7,
   "metadata": {},
   "outputs": [
    {
     "data": {
      "text/html": [
       "<div>\n",
       "<style>\n",
       "    .dataframe thead tr:only-child th {\n",
       "        text-align: right;\n",
       "    }\n",
       "\n",
       "    .dataframe thead th {\n",
       "        text-align: left;\n",
       "    }\n",
       "\n",
       "    .dataframe tbody tr th {\n",
       "        vertical-align: top;\n",
       "    }\n",
       "</style>\n",
       "<table border=\"1\" class=\"dataframe\">\n",
       "  <thead>\n",
       "    <tr style=\"text-align: right;\">\n",
       "      <th></th>\n",
       "      <th>popul</th>\n",
       "      <th>TVnews</th>\n",
       "      <th>selfLR</th>\n",
       "      <th>ClinLR</th>\n",
       "      <th>DoleLR</th>\n",
       "      <th>PID</th>\n",
       "      <th>age</th>\n",
       "      <th>educ</th>\n",
       "      <th>income</th>\n",
       "      <th>vote</th>\n",
       "    </tr>\n",
       "  </thead>\n",
       "  <tbody>\n",
       "    <tr>\n",
       "      <th>939</th>\n",
       "      <td>0</td>\n",
       "      <td>7</td>\n",
       "      <td>7</td>\n",
       "      <td>1</td>\n",
       "      <td>6</td>\n",
       "      <td>4</td>\n",
       "      <td>73</td>\n",
       "      <td>6</td>\n",
       "      <td>24</td>\n",
       "      <td>1</td>\n",
       "    </tr>\n",
       "    <tr>\n",
       "      <th>940</th>\n",
       "      <td>0</td>\n",
       "      <td>7</td>\n",
       "      <td>5</td>\n",
       "      <td>2</td>\n",
       "      <td>6</td>\n",
       "      <td>6</td>\n",
       "      <td>50</td>\n",
       "      <td>6</td>\n",
       "      <td>24</td>\n",
       "      <td>1</td>\n",
       "    </tr>\n",
       "    <tr>\n",
       "      <th>941</th>\n",
       "      <td>0</td>\n",
       "      <td>3</td>\n",
       "      <td>6</td>\n",
       "      <td>2</td>\n",
       "      <td>7</td>\n",
       "      <td>5</td>\n",
       "      <td>43</td>\n",
       "      <td>6</td>\n",
       "      <td>24</td>\n",
       "      <td>1</td>\n",
       "    </tr>\n",
       "    <tr>\n",
       "      <th>942</th>\n",
       "      <td>0</td>\n",
       "      <td>6</td>\n",
       "      <td>6</td>\n",
       "      <td>2</td>\n",
       "      <td>5</td>\n",
       "      <td>6</td>\n",
       "      <td>46</td>\n",
       "      <td>7</td>\n",
       "      <td>24</td>\n",
       "      <td>1</td>\n",
       "    </tr>\n",
       "    <tr>\n",
       "      <th>943</th>\n",
       "      <td>18</td>\n",
       "      <td>7</td>\n",
       "      <td>4</td>\n",
       "      <td>2</td>\n",
       "      <td>6</td>\n",
       "      <td>3</td>\n",
       "      <td>61</td>\n",
       "      <td>7</td>\n",
       "      <td>24</td>\n",
       "      <td>1</td>\n",
       "    </tr>\n",
       "  </tbody>\n",
       "</table>\n",
       "</div>"
      ],
      "text/plain": [
       "     popul  TVnews  selfLR  ClinLR  DoleLR  PID  age  educ  income  vote\n",
       "939      0       7       7       1       6    4   73     6      24     1\n",
       "940      0       7       5       2       6    6   50     6      24     1\n",
       "941      0       3       6       2       7    5   43     6      24     1\n",
       "942      0       6       6       2       5    6   46     7      24     1\n",
       "943     18       7       4       2       6    3   61     7      24     1"
      ]
     },
     "execution_count": 7,
     "metadata": {},
     "output_type": "execute_result"
    }
   ],
   "source": [
    "dataset.tail()"
   ]
  },
  {
   "cell_type": "code",
   "execution_count": 8,
   "metadata": {},
   "outputs": [
    {
     "name": "stdout",
     "output_type": "stream",
     "text": [
      "X Train      popul  TVnews  selfLR  ClinLR  DoleLR  PID  age  educ  income\n",
      "893      0       0       6       2       5    6   56     3      24\n",
      "255     93       2       1       3       6    1   41     6      14\n",
      "52      33       7       4       3       6    3   69     2       4\n",
      "438      0       2       4       2       6    1   45     3      17\n",
      "182      8       7       2       2       6    0   78     3      12\n",
      "801    220       2       4       2       6    6   31     6      22\n",
      "848      0       5       6       1       6    6   57     7      23\n",
      "19      19       2       2       1       4    0   36     3       2\n",
      "572    180       7       2       2       4    0   44     5      19\n",
      "940      0       7       5       2       6    6   50     6      24\n",
      "769      9       0       4       2       6    1   21     5      21\n",
      "129     44       7       5       3       7    2   78     4       9\n",
      "868    110       1       5       2       6    6   28     4      23\n",
      "793      4       7       4       2       6    2   32     6      22\n",
      "256      0       7       3       2       6    1   67     3      14\n",
      "292      4       3       3       5       3    4   48     3      15\n",
      "384      1       7       4       7       2    0   53     1      16\n",
      "291    470       3       4       4       7    0   39     3      15\n",
      "371     29       1       4       5       3    0   58     1      16\n",
      "464      9       6       5       4       6    0   75     6      17\n",
      "420      2       0       4       2       4    4   72     3      17\n",
      "445     35       0       6       1       6    4   36     6      17\n",
      "392    630       0       6       5       4    1   35     4      16\n",
      "12     190       2       5       4       6    5   22     4       1\n",
      "854     16       7       6       2       6    6   53     6      23\n",
      "205      2       7       1       2       7    1   66     4      12\n",
      "442    170       1       2       2       7    0   34     6      17\n",
      "15       0       7       6       7       5    0   62     3       1\n",
      "545     64       2       5       2       6    6   26     5      19\n",
      "758    310       0       5       2       7    0   35     4      21\n",
      "..     ...     ...     ...     ...     ...  ...  ...   ...     ...\n",
      "172    470       7       6       2       4    5   70     4      11\n",
      "521      2       2       2       3       6    2   28     4      18\n",
      "735     18       3       5       2       5    6   39     7      21\n",
      "482      9       0       6       2       5    6   41     6      18\n",
      "422     16       7       5       2       6    5   85     2      17\n",
      "79       0       7       3       4       5    3   30     3       5\n",
      "247      0       3       6       2       6    6   50     3      14\n",
      "779      0       7       6       1       6    6   51     7      22\n",
      "145     15       4       6       3       4    4   37     6      10\n",
      "317      0       7       4       3       5    2   75     4      15\n",
      "49       0       1       3       4       5    2   22     6       4\n",
      "429     42       7       4       3       6    4   28     7      17\n",
      "206     40       0       2       4       6    0   35     4      12\n",
      "336     20       7       5       4       6    1   69     1      15\n",
      "293    640       4       6       2       5    4   62     3      15\n",
      "908     18       7       5       4       6    4   52     7      24\n",
      "780      5       7       5       4       6    5   85     2      22\n",
      "763     50       3       6       4       1    1   23     3      21\n",
      "512      0       0       4       2       3    4   40     3      18\n",
      "569    900       4       3       3       6    0   48     3      19\n",
      "613      6       7       5       6       5    6   46     4      20\n",
      "602    640       5       4       5       7    1   50     5      20\n",
      "783      0       2       4       3       6    2   23     6      22\n",
      "887     12       3       2       4       6    0   27     5      24\n",
      "146      3       4       3       5       7    0   37     4      10\n",
      "565      0       2       4       3       6    0   49     4      19\n",
      "815    640       7       5       3       6    4   37     7      22\n",
      "189    900       0       6       2       5    6   34     6      12\n",
      "705     51       1       6       4       5    1   31     3      21\n",
      "448      4       0       6       4       2    1   48     3      17\n",
      "\n",
      "[566 rows x 9 columns]\n",
      "X Test      popul  TVnews  selfLR  ClinLR  DoleLR  PID  age  educ  income\n",
      "471      0       0       2       3       5    1   31     7      17\n",
      "333     51       7       3       1       7    0   74     3      15\n",
      "928     59       7       4       2       6    2   70     3      24\n",
      "682    190       2       4       2       7    1   30     6      21\n",
      "173     22       7       6       1       6    6   87     5      11\n",
      "710      1       6       6       1       6    6   63     7      21\n",
      "310      2       6       3       4       6    0   35     4      15\n",
      "563      0       1       4       4       6    1   41     4      19\n",
      "642    100       0       3       2       6    2   42     4      20\n",
      "98       0       3       5       3       6    5   47     6       7\n",
      "213   2800       7       4       1       6    5   74     3      13\n",
      "595      0       3       4       3       6    2   48     5      20\n",
      "458     22       7       7       1       6    6   71     4      17\n",
      "222      0       1       5       2       6    2   39     2      13\n",
      "175     47       5       3       5       7    1   58     3      12\n",
      "227      0       7       4       2       7    0   70     2      13\n",
      "177    330       7       3       6       4    0   62     3      12\n",
      "865      0       2       6       1       6    5   49     4      23\n",
      "100      0       7       4       3       5    0   84     6       7\n",
      "547      0       3       4       2       6    1   48     3      19\n",
      "180     33       3       6       1       7    6   88     2      12\n",
      "457     14       7       4       1       5    1   59     4      17\n",
      "812    140       7       2       2       4    0   76     6      22\n",
      "130   7300       1       2       2       7    3   27     6       9\n",
      "796      0       0       4       4       4    3   40     3      22\n",
      "724      0       5       4       4       3    2   29     3      21\n",
      "630      9       2       3       3       6    2   40     6      20\n",
      "577     34       4       6       2       6    6   30     6      20\n",
      "409      0       7       6       1       5    6   40     6      16\n",
      "214      0       0       4       4       3    1   36     3      13\n",
      "..     ...     ...     ...     ...     ...  ...  ...   ...     ...\n",
      "381     51       5       2       4       7    1   41     3      16\n",
      "475      3       7       6       4       4    0   74     3      18\n",
      "74       3       2       4       6       5    1   22     3       5\n",
      "905     47       0       3       4       6    2   40     7      24\n",
      "96      16       7       5       3       6    5   82     3       6\n",
      "539      0       0       7       3       4    5   31     3      19\n",
      "662    190       1       6       2       6    6   35     3      20\n",
      "626      0       0       5       4       6    5   41     7      20\n",
      "449     70       0       5       7       7    3   41     3      17\n",
      "103     22       3       5       3       5    4   33     2       7\n",
      "252      0       7       4       5       4    2   83     6      14\n",
      "839      0       0       6       1       6    5   44     6      23\n",
      "6      100       7       5       6       4    1   77     4       1\n",
      "874    350       7       3       2       7    2   53     3      23\n",
      "50       0       7       5       1       6    5   68     3       4\n",
      "606    110       2       7       1       6    6   31     6      20\n",
      "20      74       7       4       4       7    2   88     2       2\n",
      "790      4       1       6       2       6    5   37     4      22\n",
      "549     53       0       3       6       4    1   37     5      19\n",
      "83      35       7       3       2       5    0   71     2       5\n",
      "717     88       4       6       3       6    5   28     6      21\n",
      "612     16       3       6       2       6    4   65     4      20\n",
      "341      0       7       5       5       4    0   76     2      15\n",
      "287     12       0       4       2       5    2   20     3      15\n",
      "776      0       7       4       6       3    0   45     3      22\n",
      "253     51       7       6       1       5    4   68     6      14\n",
      "308     53       0       4       2       6    1   37     6      15\n",
      "720     75       1       5       1       6    5   37     4      21\n",
      "123      9       4       6       3       6    6   30     6       8\n",
      "633     75       7       6       2       4    4   54     4      20\n",
      "\n",
      "[378 rows x 9 columns]\n",
      "Y Train 893    1\n",
      "255    0\n",
      "52     0\n",
      "438    0\n",
      "182    0\n",
      "801    1\n",
      "848    1\n",
      "19     0\n",
      "572    0\n",
      "940    1\n",
      "769    0\n",
      "129    0\n",
      "868    1\n",
      "793    0\n",
      "256    0\n",
      "292    1\n",
      "384    0\n",
      "291    0\n",
      "371    0\n",
      "464    0\n",
      "420    1\n",
      "445    1\n",
      "392    0\n",
      "12     1\n",
      "854    1\n",
      "205    0\n",
      "442    0\n",
      "15     0\n",
      "545    1\n",
      "758    0\n",
      "      ..\n",
      "172    1\n",
      "521    0\n",
      "735    1\n",
      "482    1\n",
      "422    1\n",
      "79     0\n",
      "247    1\n",
      "779    1\n",
      "145    0\n",
      "317    1\n",
      "49     0\n",
      "429    1\n",
      "206    0\n",
      "336    0\n",
      "293    1\n",
      "908    1\n",
      "780    0\n",
      "763    0\n",
      "512    1\n",
      "569    0\n",
      "613    0\n",
      "602    0\n",
      "783    0\n",
      "887    0\n",
      "146    0\n",
      "565    0\n",
      "815    0\n",
      "189    1\n",
      "705    0\n",
      "448    0\n",
      "Name: vote, Length: 566, dtype: int64\n",
      "Y Test 471    0\n",
      "333    0\n",
      "928    0\n",
      "682    0\n",
      "173    1\n",
      "710    1\n",
      "310    0\n",
      "563    0\n",
      "642    0\n",
      "98     1\n",
      "213    1\n",
      "595    0\n",
      "458    1\n",
      "222    0\n",
      "175    0\n",
      "227    0\n",
      "177    0\n",
      "865    1\n",
      "100    0\n",
      "547    1\n",
      "180    1\n",
      "457    1\n",
      "812    0\n",
      "130    0\n",
      "796    0\n",
      "724    0\n",
      "630    0\n",
      "577    1\n",
      "409    1\n",
      "214    0\n",
      "      ..\n",
      "381    0\n",
      "475    0\n",
      "74     0\n",
      "905    0\n",
      "96     1\n",
      "539    1\n",
      "662    1\n",
      "626    1\n",
      "449    0\n",
      "103    1\n",
      "252    1\n",
      "839    1\n",
      "6      0\n",
      "874    0\n",
      "50     1\n",
      "606    1\n",
      "20     0\n",
      "790    1\n",
      "549    0\n",
      "83     0\n",
      "717    1\n",
      "612    1\n",
      "341    0\n",
      "287    0\n",
      "776    0\n",
      "253    1\n",
      "308    0\n",
      "720    1\n",
      "123    1\n",
      "633    1\n",
      "Name: vote, Length: 378, dtype: int64\n"
     ]
    }
   ],
   "source": [
    "header = list(dataset.columns.values)\n",
    "features = header[:-1]\n",
    "target = header[-1]\n",
    "\n",
    "x_train, x_test, y_train, y_test = train_test_split(dataset[features], dataset[target], test_size = 0.4)\n",
    "\n",
    "print(\"X Train\", x_train)\n",
    "print(\"X Test\", x_test)\n",
    "print(\"Y Train\", y_train)\n",
    "print(\"Y Test\", y_test)"
   ]
  },
  {
   "cell_type": "code",
   "execution_count": 9,
   "metadata": {},
   "outputs": [
    {
     "data": {
      "text/plain": [
       "LogisticRegression(C=1.0, class_weight=None, dual=False, fit_intercept=True,\n",
       "          intercept_scaling=1, max_iter=100, multi_class='ovr', n_jobs=1,\n",
       "          penalty='l2', random_state=None, solver='liblinear', tol=0.0001,\n",
       "          verbose=0, warm_start=False)"
      ]
     },
     "execution_count": 9,
     "metadata": {},
     "output_type": "execute_result"
    }
   ],
   "source": [
    "classifier = LogisticRegression()\n",
    "classifier.fit(x_train, y_train)"
   ]
  },
  {
   "cell_type": "code",
   "execution_count": 10,
   "metadata": {},
   "outputs": [
    {
     "name": "stdout",
     "output_type": "stream",
     "text": [
      "0.901060070671\n"
     ]
    }
   ],
   "source": [
    "train_accuracy = classifier.score(x_train, y_train)\n",
    "print(train_accuracy)"
   ]
  },
  {
   "cell_type": "code",
   "execution_count": 11,
   "metadata": {},
   "outputs": [
    {
     "name": "stdout",
     "output_type": "stream",
     "text": [
      "     popul  TVnews  selfLR  ClinLR  DoleLR  PID  age  educ  income\n",
      "471      0       0       2       3       5    1   31     7      17\n"
     ]
    }
   ],
   "source": [
    "test_obs = x_test[:1]\n",
    "print(test_obs)"
   ]
  },
  {
   "cell_type": "code",
   "execution_count": 12,
   "metadata": {},
   "outputs": [
    {
     "name": "stdout",
     "output_type": "stream",
     "text": [
      "[0]\n"
     ]
    }
   ],
   "source": [
    "print(classifier.predict(test_obs))"
   ]
  },
  {
   "cell_type": "code",
   "execution_count": 13,
   "metadata": {},
   "outputs": [
    {
     "data": {
      "text/plain": [
       "LogisticRegression(C=1.0, class_weight=None, dual=False, fit_intercept=True,\n",
       "          intercept_scaling=1, max_iter=100, multi_class='ovr', n_jobs=1,\n",
       "          penalty='l2', random_state=None, solver='liblinear', tol=0.0001,\n",
       "          verbose=0, warm_start=False)"
      ]
     },
     "execution_count": 13,
     "metadata": {},
     "output_type": "execute_result"
    }
   ],
   "source": [
    "features_4 = ['TVnews','age','educ','income']\n",
    "model_with_4_features = LogisticRegression()\n",
    "model_with_4_features.fit(x_train[features_4], y_train)"
   ]
  },
  {
   "cell_type": "code",
   "execution_count": 14,
   "metadata": {},
   "outputs": [
    {
     "name": "stdout",
     "output_type": "stream",
     "text": [
      "0.614840989399\n"
     ]
    }
   ],
   "source": [
    "model_with_4_features_acc = model_with_4_features.score(x_train[features_4], y_train)\n",
    "print(model_with_4_features_acc)"
   ]
  },
  {
   "cell_type": "code",
   "execution_count": 15,
   "metadata": {},
   "outputs": [
    {
     "name": "stdout",
     "output_type": "stream",
     "text": [
      "     TVnews  age  educ  income\n",
      "471       0   31     7      17\n"
     ]
    }
   ],
   "source": [
    "test_obs_4 = x_test[features_4][:1]\n",
    "print(test_obs_4)"
   ]
  },
  {
   "cell_type": "code",
   "execution_count": 16,
   "metadata": {},
   "outputs": [
    {
     "name": "stdout",
     "output_type": "stream",
     "text": [
      "[0]\n"
     ]
    }
   ],
   "source": [
    "print(model_with_4_features.predict(test_obs_4))"
   ]
  },
  {
   "cell_type": "code",
   "execution_count": 18,
   "metadata": {},
   "outputs": [
    {
     "name": "stdout",
     "output_type": "stream",
     "text": [
      "0.92328042328\n"
     ]
    }
   ],
   "source": [
    "model_for_all = classifier.predict(x_test)\n",
    "model_for_all_predict = metrics.accuracy_score(model_for_all, y_test)\n",
    "\n",
    "\n",
    "\n",
    "print(model_for_all_predict)"
   ]
  }
 ],
 "metadata": {
  "kernelspec": {
   "display_name": "Python 3",
   "language": "python",
   "name": "python3"
  },
  "language_info": {
   "codemirror_mode": {
    "name": "ipython",
    "version": 3
   },
   "file_extension": ".py",
   "mimetype": "text/x-python",
   "name": "python",
   "nbconvert_exporter": "python",
   "pygments_lexer": "ipython3",
   "version": "3.6.1"
  }
 },
 "nbformat": 4,
 "nbformat_minor": 2
}
