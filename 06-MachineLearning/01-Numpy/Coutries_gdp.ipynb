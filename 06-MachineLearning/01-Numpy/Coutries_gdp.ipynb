{
 "cells": [
  {
   "cell_type": "code",
   "execution_count": 1,
   "metadata": {
    "collapsed": true
   },
   "outputs": [],
   "source": [
    "import numpy as np"
   ]
  },
  {
   "cell_type": "code",
   "execution_count": 2,
   "metadata": {
    "collapsed": true
   },
   "outputs": [],
   "source": [
    "countries = np.array(['Algeria','Angola','Argentina','Australia','Austria','Bahamas','Bangladesh',\n",
    "                      'Belarus','Belgium','Bhutan','Brazil','Bulgaria','Cambodia','Cameroon','Chile',\n",
    "                      'China','Colombia','Cyprus','Denmark','El Salvador','Estonia','Ethiopia','Fiji',\n",
    "                      'Finland','France','Georgia','Ghana','Grenada','Guinea','Haiti','Honduras',\n",
    "                      'Hungary','India','Indonesia','Ireland','Italy','Japan','Kenya', 'South Korea',\n",
    "                      'Liberia','Malaysia','Mexico', 'Morocco','Nepal','New Zealand','Norway',\n",
    "                      'Pakistan', 'Peru','Qatar','Russia','Singapore','South Africa','Spain',\n",
    "                      'Sweden','Switzerland','Thailand', 'United Arab Emirates','United Kingdom',\n",
    "                      'United States','Uruguay','Venezuela','Vietnam','Zimbabwe'])\n",
    "\n",
    "countries_gdp = np.array([2255.225482,629.9553062,11601.63022,25306.82494,27266.40335,19466.99052,\n",
    "                          588.3691778,2890.345675,24733.62696,1445.760002,4803.398244,2618.876037,\n",
    "                          590.4521124,665.7982328,7122.938458,2639.54156,3362.4656,15378.16704,\n",
    "                          30860.12808,2579.115607,6525.541272,229.6769525,2242.689259,27570.4852,\n",
    "                          23016.84778,1334.646773,402.6953275,6047.200797,394.1156638,385.5793827,\n",
    "                          1414.072488,5745.981529,837.7464011,1206.991065,27715.52837,18937.24998,\n",
    "                          39578.07441,478.2194906,16684.21278,279.2204061,5345.213415,6288.25324,\n",
    "                          1908.304416,274.8728621,14646.42094,40034.85063,672.1547506,3359.517402,\n",
    "                          36152.66676,3054.727742,33529.83052,3825.093781,15428.32098,33630.24604,\n",
    "                          39170.41371,2699.123242,21058.43643,28272.40661,37691.02733,9581.05659,\n",
    "                          5671.912202,757.4009286,347.7456605])"
   ]
  },
  {
   "cell_type": "code",
   "execution_count": 3,
   "metadata": {
    "collapsed": false
   },
   "outputs": [
    {
     "data": {
      "text/plain": [
       "<function ndarray.max>"
      ]
     },
     "execution_count": 3,
     "metadata": {},
     "output_type": "execute_result"
    }
   ],
   "source": [
    "countries_gdp.max"
   ]
  },
  {
   "cell_type": "code",
   "execution_count": 5,
   "metadata": {
    "collapsed": false
   },
   "outputs": [],
   "source": [
    "country_max_gdp = max(countries_gdp)"
   ]
  },
  {
   "cell_type": "code",
   "execution_count": 6,
   "metadata": {
    "collapsed": false
   },
   "outputs": [
    {
     "data": {
      "text/plain": [
       "numpy.ndarray"
      ]
     },
     "execution_count": 6,
     "metadata": {},
     "output_type": "execute_result"
    }
   ],
   "source": [
    "type(countries)"
   ]
  },
  {
   "cell_type": "code",
   "execution_count": 9,
   "metadata": {
    "collapsed": false
   },
   "outputs": [],
   "source": [
    "country_max_gdp_index = countries_gdp.argmax()"
   ]
  },
  {
   "cell_type": "code",
   "execution_count": 10,
   "metadata": {
    "collapsed": false
   },
   "outputs": [
    {
     "data": {
      "text/plain": [
       "45"
      ]
     },
     "execution_count": 10,
     "metadata": {},
     "output_type": "execute_result"
    }
   ],
   "source": [
    "country_max_gdp_index"
   ]
  },
  {
   "cell_type": "code",
   "execution_count": 11,
   "metadata": {
    "collapsed": false
   },
   "outputs": [
    {
     "data": {
      "text/plain": [
       "'Norway'"
      ]
     },
     "execution_count": 11,
     "metadata": {},
     "output_type": "execute_result"
    }
   ],
   "source": [
    "countries[country_max_gdp_index]"
   ]
  },
  {
   "cell_type": "code",
   "execution_count": 12,
   "metadata": {
    "collapsed": true
   },
   "outputs": [],
   "source": [
    "country_min_gdp_index = countries_gdp.argmin()"
   ]
  },
  {
   "cell_type": "code",
   "execution_count": 13,
   "metadata": {
    "collapsed": false
   },
   "outputs": [
    {
     "data": {
      "text/plain": [
       "'Ethiopia'"
      ]
     },
     "execution_count": 13,
     "metadata": {},
     "output_type": "execute_result"
    }
   ],
   "source": [
    "countries[country_min_gdp_index]"
   ]
  },
  {
   "cell_type": "code",
   "execution_count": 14,
   "metadata": {
    "collapsed": false
   },
   "outputs": [
    {
     "name": "stdout",
     "output_type": "stream",
     "text": [
      "Evaluating Countries :  Algeria\n",
      "Evaluating Countries :  Angola\n",
      "Evaluating Countries :  Argentina\n",
      "Evaluating Countries :  Australia\n",
      "Evaluating Countries :  Austria\n",
      "Evaluating Countries :  Bahamas\n",
      "Evaluating Countries :  Bangladesh\n",
      "Evaluating Countries :  Belarus\n",
      "Evaluating Countries :  Belgium\n",
      "Evaluating Countries :  Bhutan\n",
      "Evaluating Countries :  Brazil\n",
      "Evaluating Countries :  Bulgaria\n",
      "Evaluating Countries :  Cambodia\n",
      "Evaluating Countries :  Cameroon\n",
      "Evaluating Countries :  Chile\n",
      "Evaluating Countries :  China\n",
      "Evaluating Countries :  Colombia\n",
      "Evaluating Countries :  Cyprus\n",
      "Evaluating Countries :  Denmark\n",
      "Evaluating Countries :  El Salvador\n",
      "Evaluating Countries :  Estonia\n",
      "Evaluating Countries :  Ethiopia\n",
      "Evaluating Countries :  Fiji\n",
      "Evaluating Countries :  Finland\n",
      "Evaluating Countries :  France\n",
      "Evaluating Countries :  Georgia\n",
      "Evaluating Countries :  Ghana\n",
      "Evaluating Countries :  Grenada\n",
      "Evaluating Countries :  Guinea\n",
      "Evaluating Countries :  Haiti\n",
      "Evaluating Countries :  Honduras\n",
      "Evaluating Countries :  Hungary\n",
      "Evaluating Countries :  India\n",
      "Evaluating Countries :  Indonesia\n",
      "Evaluating Countries :  Ireland\n",
      "Evaluating Countries :  Italy\n",
      "Evaluating Countries :  Japan\n",
      "Evaluating Countries :  Kenya\n",
      "Evaluating Countries :  South Korea\n",
      "Evaluating Countries :  Liberia\n",
      "Evaluating Countries :  Malaysia\n",
      "Evaluating Countries :  Mexico\n",
      "Evaluating Countries :  Morocco\n",
      "Evaluating Countries :  Nepal\n",
      "Evaluating Countries :  New Zealand\n",
      "Evaluating Countries :  Norway\n",
      "Evaluating Countries :  Pakistan\n",
      "Evaluating Countries :  Peru\n",
      "Evaluating Countries :  Qatar\n",
      "Evaluating Countries :  Russia\n",
      "Evaluating Countries :  Singapore\n",
      "Evaluating Countries :  South Africa\n",
      "Evaluating Countries :  Spain\n",
      "Evaluating Countries :  Sweden\n",
      "Evaluating Countries :  Switzerland\n",
      "Evaluating Countries :  Thailand\n",
      "Evaluating Countries :  United Arab Emirates\n",
      "Evaluating Countries :  United Kingdom\n",
      "Evaluating Countries :  United States\n",
      "Evaluating Countries :  Uruguay\n",
      "Evaluating Countries :  Venezuela\n",
      "Evaluating Countries :  Vietnam\n",
      "Evaluating Countries :  Zimbabwe\n"
     ]
    }
   ],
   "source": [
    "for name in countries:\n",
    "    print(\"Evaluating Countries : \",name)"
   ]
  },
  {
   "cell_type": "code",
   "execution_count": 15,
   "metadata": {
    "collapsed": true
   },
   "outputs": [],
   "source": [
    "countries_with_their_gdp = list(zip(countries,countries_gdp))"
   ]
  },
  {
   "cell_type": "code",
   "execution_count": 16,
   "metadata": {
    "collapsed": false
   },
   "outputs": [
    {
     "data": {
      "text/plain": [
       "[('Algeria', 2255.2254819999998),\n",
       " ('Angola', 629.9553062),\n",
       " ('Argentina', 11601.630219999999),\n",
       " ('Australia', 25306.824939999999),\n",
       " ('Austria', 27266.403350000001),\n",
       " ('Bahamas', 19466.990519999999),\n",
       " ('Bangladesh', 588.36917779999999),\n",
       " ('Belarus', 2890.345675),\n",
       " ('Belgium', 24733.626960000001),\n",
       " ('Bhutan', 1445.760002),\n",
       " ('Brazil', 4803.398244),\n",
       " ('Bulgaria', 2618.876037),\n",
       " ('Cambodia', 590.45211240000003),\n",
       " ('Cameroon', 665.79823280000005),\n",
       " ('Chile', 7122.9384579999996),\n",
       " ('China', 2639.5415600000001),\n",
       " ('Colombia', 3362.4656),\n",
       " ('Cyprus', 15378.16704),\n",
       " ('Denmark', 30860.128079999999),\n",
       " ('El Salvador', 2579.1156070000002),\n",
       " ('Estonia', 6525.5412720000004),\n",
       " ('Ethiopia', 229.6769525),\n",
       " ('Fiji', 2242.6892590000002),\n",
       " ('Finland', 27570.485199999999),\n",
       " ('France', 23016.84778),\n",
       " ('Georgia', 1334.6467729999999),\n",
       " ('Ghana', 402.69532750000002),\n",
       " ('Grenada', 6047.2007970000004),\n",
       " ('Guinea', 394.11566379999999),\n",
       " ('Haiti', 385.5793827),\n",
       " ('Honduras', 1414.072488),\n",
       " ('Hungary', 5745.9815289999997),\n",
       " ('India', 837.74640109999996),\n",
       " ('Indonesia', 1206.9910649999999),\n",
       " ('Ireland', 27715.52837),\n",
       " ('Italy', 18937.249980000001),\n",
       " ('Japan', 39578.074410000001),\n",
       " ('Kenya', 478.21949059999997),\n",
       " ('South Korea', 16684.212780000002),\n",
       " ('Liberia', 279.22040609999999),\n",
       " ('Malaysia', 5345.2134150000002),\n",
       " ('Mexico', 6288.25324),\n",
       " ('Morocco', 1908.3044159999999),\n",
       " ('Nepal', 274.87286210000002),\n",
       " ('New Zealand', 14646.42094),\n",
       " ('Norway', 40034.850630000001),\n",
       " ('Pakistan', 672.15475060000006),\n",
       " ('Peru', 3359.5174019999999),\n",
       " ('Qatar', 36152.66676),\n",
       " ('Russia', 3054.727742),\n",
       " ('Singapore', 33529.830520000003),\n",
       " ('South Africa', 3825.093781),\n",
       " ('Spain', 15428.32098),\n",
       " ('Sweden', 33630.246039999998),\n",
       " ('Switzerland', 39170.413710000001),\n",
       " ('Thailand', 2699.1232420000001),\n",
       " ('United Arab Emirates', 21058.436430000002),\n",
       " ('United Kingdom', 28272.406609999998),\n",
       " ('United States', 37691.027329999997),\n",
       " ('Uruguay', 9581.0565900000001),\n",
       " ('Venezuela', 5671.9122020000004),\n",
       " ('Vietnam', 757.40092860000004),\n",
       " ('Zimbabwe', 347.74566049999999)]"
      ]
     },
     "execution_count": 16,
     "metadata": {},
     "output_type": "execute_result"
    }
   ],
   "source": [
    "countries_with_their_gdp"
   ]
  },
  {
   "cell_type": "code",
   "execution_count": 21,
   "metadata": {
    "collapsed": false
   },
   "outputs": [
    {
     "name": "stdout",
     "output_type": "stream",
     "text": [
      "Algeria\n",
      "2255.225482\n",
      "Angola\n",
      "629.9553062\n",
      "Argentina\n",
      "11601.63022\n",
      "Australia\n",
      "25306.82494\n",
      "Austria\n",
      "27266.40335\n",
      "Bahamas\n",
      "19466.99052\n",
      "Bangladesh\n",
      "588.3691778\n",
      "Belarus\n",
      "2890.345675\n",
      "Belgium\n",
      "24733.62696\n",
      "Bhutan\n",
      "1445.760002\n",
      "Brazil\n",
      "4803.398244\n",
      "Bulgaria\n",
      "2618.876037\n",
      "Cambodia\n",
      "590.4521124\n",
      "Cameroon\n",
      "665.7982328\n",
      "Chile\n",
      "7122.938458\n",
      "China\n",
      "2639.54156\n",
      "Colombia\n",
      "3362.4656\n",
      "Cyprus\n",
      "15378.16704\n",
      "Denmark\n",
      "30860.12808\n",
      "El Salvador\n",
      "2579.115607\n",
      "Estonia\n",
      "6525.541272\n",
      "Ethiopia\n",
      "229.6769525\n",
      "Fiji\n",
      "2242.689259\n",
      "Finland\n",
      "27570.4852\n",
      "France\n",
      "23016.84778\n",
      "Georgia\n",
      "1334.646773\n",
      "Ghana\n",
      "402.6953275\n",
      "Grenada\n",
      "6047.200797\n",
      "Guinea\n",
      "394.1156638\n",
      "Haiti\n",
      "385.5793827\n",
      "Honduras\n",
      "1414.072488\n",
      "Hungary\n",
      "5745.981529\n",
      "India\n",
      "837.7464011\n",
      "Indonesia\n",
      "1206.991065\n",
      "Ireland\n",
      "27715.52837\n",
      "Italy\n",
      "18937.24998\n",
      "Japan\n",
      "39578.07441\n",
      "Kenya\n",
      "478.2194906\n",
      "South Korea\n",
      "16684.21278\n",
      "Liberia\n",
      "279.2204061\n",
      "Malaysia\n",
      "5345.213415\n",
      "Mexico\n",
      "6288.25324\n",
      "Morocco\n",
      "1908.304416\n",
      "Nepal\n",
      "274.8728621\n",
      "New Zealand\n",
      "14646.42094\n",
      "Norway\n",
      "40034.85063\n",
      "Pakistan\n",
      "672.1547506\n",
      "Peru\n",
      "3359.517402\n",
      "Qatar\n",
      "36152.66676\n",
      "Russia\n",
      "3054.727742\n",
      "Singapore\n",
      "33529.83052\n",
      "South Africa\n",
      "3825.093781\n",
      "Spain\n",
      "15428.32098\n",
      "Sweden\n",
      "33630.24604\n",
      "Switzerland\n",
      "39170.41371\n",
      "Thailand\n",
      "2699.123242\n",
      "United Arab Emirates\n",
      "21058.43643\n",
      "United Kingdom\n",
      "28272.40661\n",
      "United States\n",
      "37691.02733\n",
      "Uruguay\n",
      "9581.05659\n",
      "Venezuela\n",
      "5671.912202\n",
      "Vietnam\n",
      "757.4009286\n",
      "Zimbabwe\n",
      "347.7456605\n"
     ]
    }
   ],
   "source": [
    "for i in countries_with_their_gdp:\n",
    "    for j in i:\n",
    "        print(j)"
   ]
  },
  {
   "cell_type": "code",
   "execution_count": 23,
   "metadata": {
    "collapsed": false
   },
   "outputs": [
    {
     "data": {
      "text/plain": [
       "229.6769525"
      ]
     },
     "execution_count": 23,
     "metadata": {},
     "output_type": "execute_result"
    }
   ],
   "source": [
    "min(countries_gdp)"
   ]
  },
  {
   "cell_type": "code",
   "execution_count": 24,
   "metadata": {
    "collapsed": false
   },
   "outputs": [
    {
     "data": {
      "text/plain": [
       "11289.409271639683"
      ]
     },
     "execution_count": 24,
     "metadata": {},
     "output_type": "execute_result"
    }
   ],
   "source": [
    "np.mean(countries_gdp)"
   ]
  },
  {
   "cell_type": "code",
   "execution_count": 25,
   "metadata": {
    "collapsed": false
   },
   "outputs": [
    {
     "data": {
      "text/plain": [
       "12743.828910617945"
      ]
     },
     "execution_count": 25,
     "metadata": {},
     "output_type": "execute_result"
    }
   ],
   "source": [
    "np.std(countries_gdp)"
   ]
  },
  {
   "cell_type": "code",
   "execution_count": 26,
   "metadata": {
    "collapsed": false
   },
   "outputs": [
    {
     "data": {
      "text/plain": [
       "711232.78411330003"
      ]
     },
     "execution_count": 26,
     "metadata": {},
     "output_type": "execute_result"
    }
   ],
   "source": [
    "np.sum(countries_gdp)"
   ]
  },
  {
   "cell_type": "code",
   "execution_count": null,
   "metadata": {
    "collapsed": true
   },
   "outputs": [],
   "source": []
  }
 ],
 "metadata": {
  "kernelspec": {
   "display_name": "Python 3",
   "language": "python",
   "name": "python3"
  },
  "language_info": {
   "codemirror_mode": {
    "name": "ipython",
    "version": 3
   },
   "file_extension": ".py",
   "mimetype": "text/x-python",
   "name": "python",
   "nbconvert_exporter": "python",
   "pygments_lexer": "ipython3",
   "version": "3.6.0"
  }
 },
 "nbformat": 4,
 "nbformat_minor": 2
}
